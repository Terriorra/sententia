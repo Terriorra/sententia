{
 "cells": [
  {
   "cell_type": "markdown",
   "id": "e0f7ea29-55a4-4dd0-8926-df59362aa989",
   "metadata": {},
   "source": [
    "Начну с разработки прототипов обработки текста  \n",
    "Точнее вначале подумаю над схемой...\n",
    "\n",
    "Нужны как минимум 4 блока:\n",
    "1. Анализ текста\n",
    "    - Загрузка\n",
    "    - Подготовка\n",
    "    - Анализ\n",
    "2. Генерация упражнений\n",
    "   - Некий общий базис\n",
    "   - Под каждый тип свой  \n",
    "3. Проверка\n",
    "    - Проверка грамматики\n",
    "    - Чек боксы\\Радио баттоны\n",
    "4. Интерфейс\n",
    "    - Отображение\n",
    "    - Настройки\n",
    "    - Оценка\n",
    "      "
   ]
  },
  {
   "cell_type": "markdown",
   "id": "24824f2d-52e4-451f-80ea-33b72cf5d163",
   "metadata": {},
   "source": [
    "Итак, варианты заданий:\n",
    "1. Выбор пропущенного слова (свободный ввод\\радио баттон)\n",
    "2. Структура предложеия\n",
    "   - Определение главных и второстепенных членов предложения\n",
    "   - Выделение base noun phrases - группы существительного с зависимого словами \n",
    "3. Выбор правильного предложения (радио баттон\\ чек боксы)\n",
    "   - Замена основных членов предложения на синонимы, антонимы\n",
    "   - Изменение времени глагола\n",
    "   - Генерация текста\n",
    "4. Пропущенные слова, части речи (свободный ввод\\ радио баттон)\n",
    "   - Выбор, какие части речи пропускать\n",
    "   - Возможность указать долю пропущенных слов\n",
    "     "
   ]
  },
  {
   "cell_type": "markdown",
   "id": "60073bbc-eb52-4f24-a27c-0a70ca4359bd",
   "metadata": {},
   "source": [
    "# Начну с загрузки текстов"
   ]
  },
  {
   "cell_type": "code",
   "execution_count": 4,
   "id": "e889181b-a7ae-4bcb-8b92-a596405b940f",
   "metadata": {},
   "outputs": [],
   "source": [
    "import os"
   ]
  },
  {
   "cell_type": "code",
   "execution_count": 7,
   "id": "7474a379-7a43-416c-b86b-11b412ce8bbf",
   "metadata": {},
   "outputs": [],
   "source": [
    "# Задам константы\n",
    "path = '../Texts/'\n",
    "\n",
    "name = 'Little_Red_Cap_ Jacob_and_Wilhelm_Grimm.txt'"
   ]
  },
  {
   "cell_type": "code",
   "execution_count": 17,
   "id": "648bea69-79cf-4811-95f8-54aaa1a0b795",
   "metadata": {},
   "outputs": [],
   "source": [
    "def file_read(file_name: str) -> str:\n",
    "    \"\"\"\n",
    "    Open txt file\n",
    "    :param file_name: full name (path + name)\n",
    "    :return: content txt file\n",
    "    \"\"\"\n",
    "    with open(file_name, 'r') as f:\n",
    "        text = f.read()\n",
    "    return text"
   ]
  },
  {
   "cell_type": "code",
   "execution_count": 47,
   "id": "55112a1d-b120-4817-b3c0-e8f2261ac00f",
   "metadata": {},
   "outputs": [],
   "source": [
    "def get_paragraph(text: str) -> list[str]:\n",
    "    \"\"\"\n",
    "    Cut text to list\n",
    "    :param text: file text str\n",
    "    :return: list paragraphs\n",
    "    \"\"\"\n",
    "    # cut paragraph\n",
    "    paragraph = text.split('\\n')\n",
    "    # del empty foo\n",
    "    paragraph = list(filter(None, paragraph))\n",
    "    return paragraph"
   ]
  },
  {
   "cell_type": "code",
   "execution_count": null,
   "id": "e31a1933-5517-4ab6-b728-9ba22429c162",
   "metadata": {},
   "outputs": [],
   "source": [
    "def get_info(paragraph: list[str]) -> dict:\n",
    "    text_dict['name_text'] = paragraph[0]\n",
    "    text_dict['author'] = paragraph[1]"
   ]
  },
  {
   "cell_type": "code",
   "execution_count": 48,
   "id": "bcd100fa-eaa3-4ec7-901c-f22e4db1526b",
   "metadata": {},
   "outputs": [],
   "source": [
    "file_str = file_read(path + name)\n",
    "file_paragraph = get_paragraph(file_str)"
   ]
  },
  {
   "cell_type": "code",
   "execution_count": 50,
   "id": "5ef08100-6fc1-416f-aefd-306674d5e29a",
   "metadata": {},
   "outputs": [
    {
     "data": {
      "text/plain": [
       "['Little Red Cap',\n",
       " 'Jacob and Wilhelm Grimm',\n",
       " 'Once upon a time there was a sweet little girl. Everyone who saw her liked her, but most of all her grandmother, who did not know what to give the child next. Once she gave her a little cap made of red velvet. Because it suited her so well, and she wanted to wear it all the time, she came to be known as Little Red Cap.',\n",
       " 'One day her mother said to her, \"Come Little Red Cap. Here is a piece of cake and a bottle of wine. Take them to your grandmother. She is sick and weak, and they will do her well. Mind your manners and give her my greetings. Behave yourself on the way, and do not leave the path, or you might fall down and break the glass, and then there will be nothing for your sick grandmother.\"',\n",
       " 'Little Red Cap promised to obey her mother. The grandmother lived out in the woods, a half hour from the village. When Little Red Cap entered the woods a wolf came up to her. She did not know what a wicked animal he was, and was not afraid of him.',\n",
       " '\"Good day to you, Little Red Cap.\"',\n",
       " '\"Thank you, wolf.\"',\n",
       " '\"Where are you going so early, Little Red Cap?\"',\n",
       " '\"To grandmother\\'s.\"',\n",
       " '\"And what are you carrying under your apron?\"',\n",
       " '\"Grandmother is sick and weak, and I am taking her some cake and wine. We baked yesterday, and they should give her strength.\"',\n",
       " '\"Little Red Cap, just where does your grandmother live?\"',\n",
       " '\"Her house is a good quarter hour from here in the woods, under the three large oak trees. There\\'s a hedge of hazel bushes there. You must know the place,\" said Little Red Cap.',\n",
       " 'The wolf thought to himself, \"Now there is a tasty bite for me. Just how are you going to catch her?\" Then he said, \"Listen, Little Red Cap, haven\\'t you seen the beautiful flowers that are blossoming in the woods? Why don\\'t you go and take a look? And I don\\'t believe you can hear how beautifully the birds are singing. You are walking along as though you were on your way to school in the village. It is very beautiful in the woods.\"',\n",
       " 'Little Red Cap opened her eyes and saw the sunlight breaking through the trees and how the ground was covered with beautiful flowers. She thought, \"If a take a bouquet to grandmother, she will be very pleased. Anyway, it is still early, and I\\'ll be home on time.\" And she ran off into the woods looking for flowers. Each time she picked one she thought that she could see an even more beautiful one a little way off, and she ran after it, going further and further into the woods. But the wolf ran straight to the grandmother\\'s house and knocked on the door.',\n",
       " '\"Who\\'s there?\"',\n",
       " '\"Little Red Cap. I\\'m bringing you some cake and wine. Open the door for me.\"',\n",
       " '\"Just press the latch,\" called out the grandmother. \"I\\'m too weak to get up.\"',\n",
       " \"The wolf pressed the latch, and the door opened. He stepped inside, went straight to the grandmother's bed, and ate her up. Then he took her clothes, put them on, and put her cap on his head. He got into her bed and pulled the curtains shut.\",\n",
       " 'Little Red Cap had run after flowers, and did not continue on her way to grandmother\\'s until she had gathered all that she could carry. When she arrived, she found, to her surprise, that the door was open. She walked into the parlor, and everything looked so strange that she thought, \"Oh, my God, why am I so afraid? I usually like it at grandmother\\'s.\" Then she went to the bed and pulled back the curtains. Grandmother was lying there with her cap pulled down over her face and looking very strange.',\n",
       " '\"Oh, grandmother, what big ears you have!\"',\n",
       " '\"All the better to hear you with.\"',\n",
       " '\"Oh, grandmother, what big eyes you have!\"',\n",
       " '\"All the better to see you with.\"',\n",
       " '\"Oh, grandmother, what big hands you have!\"',\n",
       " '\"All the better to grab you with!\"',\n",
       " '\"Oh, grandmother, what a horribly big mouth you have!\"',\n",
       " '\"All the better to eat you with!\" And with that he jumped out of bed, jumped on top of poor Little Red Cap, and ate her up. As soon as the wolf had finished this tasty bite, he climbed back into bed, fell asleep, and began to snore very loudly.',\n",
       " 'A huntsman was just passing by. He thought it strange that the old woman was snoring so loudly, so he decided to take a look. He stepped inside, and in the bed there lay the wolf that he had been hunting for such a long time. \"He has eaten the grandmother, but perhaps she still can be saved. I won\\'t shoot him,\" thought the huntsman. So he took a pair of scissors and cut open his belly.',\n",
       " 'He had cut only a few strokes when he saw the red cap shining through. He cut a little more, and the girl jumped out and cried, \"Oh, I was so frightened! It was so dark inside the wolf\\'s body!\"',\n",
       " \"And then the grandmother came out alive as well. Then Little Red Cap fetched some large heavy stones. They filled the wolf's body with them, and when he woke up and tried to run away, the stones were so heavy that he fell down dead.\",\n",
       " 'The three of them were happy. The huntsman took the wolf\\'s pelt. The grandmother ate the cake and drank the wine that Little Red Cap had brought. And Little Red Cap thought to herself, \"As long as I live, I will never leave the path and run off into the woods by myself if mother tells me not to.\"',\n",
       " 'They also tell how Little Red Cap was taking some baked things to her grandmother another time, when another wolf spoke to her and wanted her to leave the path. But Little Red Cap took care and went straight to grandmother\\'s. She told her that she had seen the wolf, and that he had wished her a good day, but had stared at her in a wicked manner. \"If we hadn\\'t been on a public road, he would have eaten me up,\" she said.',\n",
       " '\"Come,\" said the grandmother. \"Let\\'s lock the door, so he can\\'t get in.\"',\n",
       " 'Soon afterward the wolf knocked on the door and called out, \"Open up, grandmother. It\\'s Little Red Cap, and I\\'m bringing you some baked things.\"',\n",
       " 'They remained silent, and did not open the door. The wicked one walked around the house several times, and finally jumped onto the roof. He wanted to wait until Little Red Cap went home that evening, then follow her and eat her up in the darkness. But the grandmother saw what he was up to. There was a large stone trough in front of the house.',\n",
       " '\"Fetch a bucket, Little Red Cap,\" she said. \"Yesterday I cooked some sausage. Carry the water that I boiled them with to the trough.\" Little Red Cap carried water until the large, large trough was clear full. The smell of sausage arose into the wolf\\'s nose. He sniffed and looked down, stretching his neck so long that he could no longer hold himself, and he began to slide. He slid off the roof, fell into the trough, and drowned. And Little Red Cap returned home happily and safely.',\n",
       " 'Source: \"RothkГ¤ppchen,\" Kinder- und HausmГ¤rchen, 1st ed. (Berlin: Realschulbuchhandlung, 1812), v. 1, no. 26, pp. 113-18. Translated by D. L. Ashliman.',\n",
       " 'The Grimms\\' source for the first variant (the main story) was Jeanette Hassenpflug (1791-1860). Marie Hassenpflug (1788-1856) provided them with the second variant (the concluding episode, introduced with the sentence \"They also tell how Little Red Cap was taking some baked things to her grandmother another time....\"',\n",
       " 'The German title of this tale is RotkГ¤ppchen (RothkГ¤ppchen in the nineteenth-century spelling of the Grimm brothers).',\n",
       " \"Link to an English translation of the Grimms' final version (edition of 1857) of Little Red Cap.\",\n",
       " 'Link to the German text of the Grimms\\' final version: \"RothkГ¤ppchen,\" Kinder- und HausmГ¤rchen, gesammelt durch die BrГјder Grimm, 7th edition, vol. 1 (GГ¶ttingen: Verlag der Dieterichschen Buchhandlung, 1857), no. 26, pp. 140-44.']"
      ]
     },
     "execution_count": 50,
     "metadata": {},
     "output_type": "execute_result"
    }
   ],
   "source": [
    "file_paragraph"
   ]
  },
  {
   "cell_type": "code",
   "execution_count": 25,
   "id": "1a5cc9e8-fe1a-411c-ba49-73a5afe376cf",
   "metadata": {},
   "outputs": [],
   "source": [
    "paragraph = file_str.split('\\n')"
   ]
  },
  {
   "cell_type": "code",
   "execution_count": 28,
   "id": "e98de170-19aa-4cb3-8a10-4d3ce132af46",
   "metadata": {},
   "outputs": [
    {
     "data": {
      "text/plain": [
       "0"
      ]
     },
     "execution_count": 28,
     "metadata": {},
     "output_type": "execute_result"
    }
   ],
   "source": [
    "len(paragraph[1])"
   ]
  },
  {
   "cell_type": "code",
   "execution_count": null,
   "id": "0e710bf7-aa36-4e96-9ac8-367a678cb3eb",
   "metadata": {},
   "outputs": [],
   "source": [
    "Source:"
   ]
  },
  {
   "cell_type": "code",
   "execution_count": 65,
   "id": "629f8ab8-4062-4f3c-9657-bf1b5f279142",
   "metadata": {},
   "outputs": [
    {
     "data": {
      "text/plain": [
       "[0,\n",
       " 1,\n",
       " 2,\n",
       " 3,\n",
       " 4,\n",
       " 5,\n",
       " 6,\n",
       " 7,\n",
       " 8,\n",
       " 9,\n",
       " 10,\n",
       " 11,\n",
       " 12,\n",
       " 13,\n",
       " 14,\n",
       " 15,\n",
       " 16,\n",
       " 17,\n",
       " 18,\n",
       " 19,\n",
       " 20,\n",
       " 21,\n",
       " 22,\n",
       " 23,\n",
       " 24,\n",
       " 25,\n",
       " 26,\n",
       " 27,\n",
       " 28,\n",
       " 29,\n",
       " 30,\n",
       " 31,\n",
       " 32,\n",
       " 33,\n",
       " 34,\n",
       " 35,\n",
       " 36,\n",
       " 37,\n",
       " 38,\n",
       " 39,\n",
       " 40,\n",
       " 41,\n",
       " 42,\n",
       " 43,\n",
       " 44,\n",
       " 45,\n",
       " 46,\n",
       " 47,\n",
       " 48,\n",
       " 49,\n",
       " 50,\n",
       " 51,\n",
       " 52,\n",
       " 53,\n",
       " 54,\n",
       " 55,\n",
       " 56,\n",
       " 57,\n",
       " 58,\n",
       " 59,\n",
       " 60,\n",
       " 61,\n",
       " 62,\n",
       " 63,\n",
       " 64,\n",
       " 65,\n",
       " 66,\n",
       " 67,\n",
       " 68,\n",
       " 69,\n",
       " 70,\n",
       " 71,\n",
       " 72,\n",
       " 73,\n",
       " 74,\n",
       " 75,\n",
       " 76,\n",
       " 77,\n",
       " 78]"
      ]
     },
     "execution_count": 65,
     "metadata": {},
     "output_type": "execute_result"
    }
   ],
   "source": [
    "list(range(len(paragraph)))"
   ]
  },
  {
   "cell_type": "code",
   "execution_count": null,
   "id": "e45628e2-2a18-406e-a891-44b1802d2101",
   "metadata": {},
   "outputs": [],
   "source": []
  },
  {
   "cell_type": "code",
   "execution_count": 68,
   "id": "139899fb-4acd-4fe5-8224-06f445ee7fae",
   "metadata": {},
   "outputs": [
    {
     "ename": "SyntaxError",
     "evalue": "expected 'else' after 'if' expression (3158079368.py, line 1)",
     "output_type": "error",
     "traceback": [
      "\u001b[1;36m  Cell \u001b[1;32mIn[68], line 1\u001b[1;36m\u001b[0m\n\u001b[1;33m    list(map(lambda x: x[0] if x[1].startswith('Source:'), enumerate(paragraph)))\u001b[0m\n\u001b[1;37m                       ^\u001b[0m\n\u001b[1;31mSyntaxError\u001b[0m\u001b[1;31m:\u001b[0m expected 'else' after 'if' expression\n"
     ]
    }
   ],
   "source": [
    "list(map(lambda x: x[0] if x[1].startswith('Source:'), enumerate(paragraph)))"
   ]
  },
  {
   "cell_type": "code",
   "execution_count": 60,
   "id": "a2023e5a-3b57-4ab4-8a52-4c650500a9fd",
   "metadata": {},
   "outputs": [
    {
     "data": {
      "text/plain": [
       "['Source: \"RothkГ¤ppchen,\" Kinder- und HausmГ¤rchen, 1st ed. (Berlin: Realschulbuchhandlung, 1812), v. 1, no. 26, pp. 113-18. Translated by D. L. Ashliman.']"
      ]
     },
     "execution_count": 60,
     "metadata": {},
     "output_type": "execute_result"
    }
   ],
   "source": [
    "list(filter(lambda x: x.startswith('Source:'), paragraph))"
   ]
  },
  {
   "cell_type": "code",
   "execution_count": 34,
   "id": "fa56bdff-d07f-495a-bdbd-9d0856d2496b",
   "metadata": {},
   "outputs": [
    {
     "data": {
      "text/plain": [
       "'One day her mother said to her, \"Come Little Red Cap. Here is a piece of cake and a bottle of wine. Take them to your grandmother. She is sick and weak, and they will do her well. Mind your manners and give her my greetings. Behave yourself on the way, and do not leave the path, or you might fall down and break the glass, and then there will be nothing for your sick grandmother.\"'"
      ]
     },
     "execution_count": 34,
     "metadata": {},
     "output_type": "execute_result"
    }
   ],
   "source": [
    "list(filter(None, paragraph))"
   ]
  },
  {
   "cell_type": "code",
   "execution_count": 58,
   "id": "de669a4e-961b-463d-a835-8310ad857ebd",
   "metadata": {},
   "outputs": [
    {
     "data": {
      "text/plain": [
       "True"
      ]
     },
     "execution_count": 58,
     "metadata": {},
     "output_type": "execute_result"
    }
   ],
   "source": [
    "paragraph[-6].startswith('Source:')"
   ]
  },
  {
   "cell_type": "code",
   "execution_count": 57,
   "id": "ef5d3936-d4ab-4f36-9343-9caf567c424d",
   "metadata": {},
   "outputs": [
    {
     "data": {
      "text/plain": [
       "'Source: \"RothkГ¤ppchen,\" Kinder- und HausmГ¤rchen, 1st ed. (Berlin: Realschulbuchhandlung, 1812), v. 1, no. 26, pp. 113-18. Translated by D. L. Ashliman.'"
      ]
     },
     "execution_count": 57,
     "metadata": {},
     "output_type": "execute_result"
    }
   ],
   "source": [
    "paragraph[-6]"
   ]
  },
  {
   "cell_type": "code",
   "execution_count": 11,
   "id": "97ca4377-f2eb-4d04-8e17-3098ce62c714",
   "metadata": {},
   "outputs": [
    {
     "data": {
      "text/plain": [
       "str"
      ]
     },
     "execution_count": 11,
     "metadata": {},
     "output_type": "execute_result"
    }
   ],
   "source": [
    "type(open(path + name).read())"
   ]
  },
  {
   "cell_type": "code",
   "execution_count": 6,
   "id": "b81c7288-118d-40ca-9d52-af4f76984cde",
   "metadata": {},
   "outputs": [
    {
     "data": {
      "text/plain": [
       "'D:\\\\Работа\\\\Python\\\\sententia\\\\Notebooks'"
      ]
     },
     "execution_count": 6,
     "metadata": {},
     "output_type": "execute_result"
    }
   ],
   "source": [
    "os.getcwd()"
   ]
  },
  {
   "cell_type": "code",
   "execution_count": null,
   "id": "1a49e3cc-818a-44b5-8e8a-1df1b5910fcf",
   "metadata": {},
   "outputs": [],
   "source": []
  }
 ],
 "metadata": {
  "kernelspec": {
   "display_name": "Python 3 (ipykernel)",
   "language": "python",
   "name": "python3"
  },
  "language_info": {
   "codemirror_mode": {
    "name": "ipython",
    "version": 3
   },
   "file_extension": ".py",
   "mimetype": "text/x-python",
   "name": "python",
   "nbconvert_exporter": "python",
   "pygments_lexer": "ipython3",
   "version": "3.11.3"
  }
 },
 "nbformat": 4,
 "nbformat_minor": 5
}
