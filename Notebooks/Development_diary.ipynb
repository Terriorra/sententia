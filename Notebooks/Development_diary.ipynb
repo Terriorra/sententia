{
 "cells": [
  {
   "cell_type": "markdown",
   "id": "e0f7ea29-55a4-4dd0-8926-df59362aa989",
   "metadata": {},
   "source": [
    "Начну с разработки прототипов обработки текста  \n",
    "Точнее вначале подумаю над схемой...\n",
    "\n",
    "Нужны как минимум 4 блока:\n",
    "1. Анализ текста\n",
    "    - Загрузка\n",
    "    - Подготовка\n",
    "    - Анализ\n",
    "2. Генерация упражнений\n",
    "   - Некий общий базис\n",
    "   - Под каждый тип свой  \n",
    "3. Проверка\n",
    "    - Проверка грамматики\n",
    "    - Чек боксы\\Радио баттоны\n",
    "4. Интерфейс\n",
    "    - Отображение\n",
    "    - Настройки\n",
    "    - Оценка\n",
    "      "
   ]
  },
  {
   "cell_type": "markdown",
   "id": "24824f2d-52e4-451f-80ea-33b72cf5d163",
   "metadata": {},
   "source": [
    "Итак, варианты заданий:\n",
    "1. Выбор пропущенного слова (свободный ввод\\радио баттон)\n",
    "2. Структура предложеия\n",
    "   - Определение главных и второстепенных членов предложения\n",
    "   - Выделение base noun phrases - группы существительного с зависимого словами \n",
    "3. Выбор правильного предложения (радио баттон\\ чек боксы)\n",
    "   - Замена основных членов предложения на синонимы, антонимы\n",
    "   - Изменение времени глагола\n",
    "   - Генерация текста\n",
    "4. Пропущенные слова, части речи (свободный ввод\\ радио баттон)\n",
    "   - Выбор, какие части речи пропускать\n",
    "   - Возможность указать долю пропущенных слов\n",
    "     "
   ]
  },
  {
   "cell_type": "markdown",
   "id": "60073bbc-eb52-4f24-a27c-0a70ca4359bd",
   "metadata": {},
   "source": [
    "# Начну с загрузки текстов"
   ]
  },
  {
   "cell_type": "code",
   "execution_count": 1,
   "id": "e889181b-a7ae-4bcb-8b92-a596405b940f",
   "metadata": {},
   "outputs": [],
   "source": [
    "import os"
   ]
  },
  {
   "cell_type": "code",
   "execution_count": 2,
   "id": "7474a379-7a43-416c-b86b-11b412ce8bbf",
   "metadata": {},
   "outputs": [],
   "source": [
    "# Задам константы\n",
    "path = '../Texts/'\n",
    "\n",
    "name = 'Little_Red_Cap_ Jacob_and_Wilhelm_Grimm.txt'"
   ]
  },
  {
   "cell_type": "code",
   "execution_count": 3,
   "id": "648bea69-79cf-4811-95f8-54aaa1a0b795",
   "metadata": {},
   "outputs": [],
   "source": [
    "def file_read(file_name: str) -> str:\n",
    "    \"\"\"\n",
    "    Open txt file\n",
    "    :param file_name: full name (path + name)\n",
    "    :return: content txt file\n",
    "    \"\"\"\n",
    "    with open(file_name, 'r') as f:\n",
    "        text = f.read()\n",
    "    return text"
   ]
  },
  {
   "cell_type": "code",
   "execution_count": 4,
   "id": "55112a1d-b120-4817-b3c0-e8f2261ac00f",
   "metadata": {},
   "outputs": [],
   "source": [
    "def get_paragraph(text: str) -> list[str]:\n",
    "    \"\"\"\n",
    "    Cut text to list\n",
    "    :param text: file text str\n",
    "    :return: list paragraphs\n",
    "    \"\"\"\n",
    "    # cut paragraph\n",
    "    paragraph = text.split('\\n')\n",
    "    # del empty foo\n",
    "    paragraph = list(filter(None, paragraph))\n",
    "    return paragraph"
   ]
  },
  {
   "cell_type": "code",
   "execution_count": 93,
   "id": "76801ec4-277f-4c4d-bffd-b4688ef06e31",
   "metadata": {},
   "outputs": [],
   "source": [
    "def find_elem(paragraph: list[str], s: str) -> list[int]:\n",
    "    my_list = list(filter(lambda x: x[1] == s, enumerate(paragraph)))\n",
    "    return [x[0] for x in my_list]"
   ]
  },
  {
   "cell_type": "code",
   "execution_count": 96,
   "id": "adaec1e7-9497-49ad-947f-ef16e90fbca3",
   "metadata": {},
   "outputs": [],
   "source": [
    "def find_paragraph(paragraph: list[str], s: str) -> int:\n",
    "    index = list(filter(lambda x: x[1].startswith(s), enumerate(paragraph)))\n",
    "    \n",
    "    if len(index):\n",
    "        return index[0][0]\n",
    "    \n",
    "    return index"
   ]
  },
  {
   "cell_type": "code",
   "execution_count": 97,
   "id": "e31a1933-5517-4ab6-b728-9ba22429c162",
   "metadata": {},
   "outputs": [],
   "source": [
    "def get_info(paragraph: list[str]) -> dict:\n",
    "    \n",
    "    text_dict = {}\n",
    "    \n",
    "    # Полагаю что в тексте есть метаданные\n",
    "    text_dict['name_text'] = paragraph[0]\n",
    "    text_dict['author'] = paragraph[1]\n",
    "    \n",
    "    source = find_paragraph(paragraph, 'Source:')\n",
    "    \n",
    "    if source:\n",
    "        text_dict['Source'] = paragraph[source: ]\n",
    "        text_dict['text'] = paragraph[2:source]\n",
    "    else:\n",
    "        text_dict['Source'] = []\n",
    "        text_dict['text'] = paragraph[2:]\n",
    "        \n",
    "    return text_dict"
   ]
  },
  {
   "cell_type": "code",
   "execution_count": 94,
   "id": "25e9c68a-7b2e-456f-8259-a3d842d0c63d",
   "metadata": {},
   "outputs": [],
   "source": [
    "def find_sentence(paragraph: str) -> list[str]:\n",
    "    return file_dict['text'][0].split('. ')"
   ]
  },
  {
   "cell_type": "code",
   "execution_count": null,
   "id": "7ce640a2-ab33-42d4-b00e-590c57f8bc02",
   "metadata": {},
   "outputs": [],
   "source": []
  },
  {
   "cell_type": "code",
   "execution_count": 67,
   "id": "bcd100fa-eaa3-4ec7-901c-f22e4db1526b",
   "metadata": {},
   "outputs": [],
   "source": [
    "file_str = file_read(path + name)\n",
    "file_paragraph = get_paragraph(file_str)\n",
    "\n",
    "file_dict = get_info(file_paragraph)"
   ]
  },
  {
   "cell_type": "code",
   "execution_count": null,
   "id": "d19bd37a-591b-43d2-8e33-f44ff6e59912",
   "metadata": {},
   "outputs": [],
   "source": []
  },
  {
   "cell_type": "code",
   "execution_count": 91,
   "id": "4caf1dad-b6c8-48c0-aec7-8702e3b214b3",
   "metadata": {},
   "outputs": [],
   "source": [
    "my_list = list(filter(lambda x: x[1] == '.', enumerate(file_dict['text'][1])))"
   ]
  },
  {
   "cell_type": "code",
   "execution_count": 92,
   "id": "45fefeff-692d-471d-a9c1-11fe093b1995",
   "metadata": {},
   "outputs": [
    {
     "data": {
      "text/plain": [
       "[52, 98, 129, 178, 223, 380]"
      ]
     },
     "execution_count": 92,
     "metadata": {},
     "output_type": "execute_result"
    }
   ],
   "source": [
    "[x[0] for x in my_list]"
   ]
  },
  {
   "cell_type": "code",
   "execution_count": 108,
   "id": "97d37e3d-dbb9-442f-b324-9eaa4d3bf54a",
   "metadata": {},
   "outputs": [
    {
     "data": {
      "text/plain": [
       "[46, 157, 208, 319]"
      ]
     },
     "execution_count": 108,
     "metadata": {},
     "output_type": "execute_result"
    }
   ],
   "source": [
    "find_elem(file_dict['text'][0], '.')"
   ]
  },
  {
   "cell_type": "code",
   "execution_count": 109,
   "id": "efe8d1a1-720b-4c2a-bf6a-af51cd6fee0b",
   "metadata": {},
   "outputs": [
    {
     "data": {
      "text/plain": [
       "[]"
      ]
     },
     "execution_count": 109,
     "metadata": {},
     "output_type": "execute_result"
    }
   ],
   "source": [
    "find_elem(file_dict['text'][0], '\"')"
   ]
  },
  {
   "cell_type": "code",
   "execution_count": 104,
   "id": "a1c91d9e-694f-4dfa-93ce-b82f1230ef39",
   "metadata": {},
   "outputs": [
    {
     "data": {
      "text/plain": [
       "[46, 157, 208, 319]"
      ]
     },
     "execution_count": 104,
     "metadata": {},
     "output_type": "execute_result"
    }
   ],
   "source": [
    "find_elem(file_dict['text'][0], '.')"
   ]
  },
  {
   "cell_type": "code",
   "execution_count": 107,
   "id": "4ee51b2e-0421-4840-b2e5-bca0e30963be",
   "metadata": {},
   "outputs": [
    {
     "data": {
      "text/plain": [
       "[52, 98, 129, 178, 223, 380]"
      ]
     },
     "execution_count": 107,
     "metadata": {},
     "output_type": "execute_result"
    }
   ],
   "source": [
    "find_elem(file_dict['text'][1], '.')"
   ]
  },
  {
   "cell_type": "code",
   "execution_count": null,
   "id": "5ca7a9b2-210e-44c3-9451-cfa02cc2324a",
   "metadata": {},
   "outputs": [],
   "source": [
    "list(filter(lambda x: x[1] == '\"', enumerate(file_dict['text'][1])))"
   ]
  },
  {
   "cell_type": "code",
   "execution_count": 84,
   "id": "17ded3cb-4942-4b48-ab1c-206daeccecdd",
   "metadata": {},
   "outputs": [
    {
     "data": {
      "text/plain": [
       "True"
      ]
     },
     "execution_count": 84,
     "metadata": {},
     "output_type": "execute_result"
    }
   ],
   "source": [
    "file_dict['text'][1][32] == '\"'"
   ]
  },
  {
   "cell_type": "code",
   "execution_count": 73,
   "id": "b16ae4b5-966a-447a-a3b5-a763ceaa34b6",
   "metadata": {},
   "outputs": [
    {
     "data": {
      "text/plain": [
       "['One day her mother said to her, \"Come Little Red Cap',\n",
       " 'Here is a piece of cake and a bottle of wine',\n",
       " 'Take them to your grandmother',\n",
       " 'She is sick and weak, and they will do her well',\n",
       " 'Mind your manners and give her my greetings',\n",
       " 'Behave yourself on the way, and do not leave the path, or you might fall down and break the glass, and then there will be nothing for your sick grandmother.\"']"
      ]
     },
     "execution_count": 73,
     "metadata": {},
     "output_type": "execute_result"
    }
   ],
   "source": [
    "file_dict['text'][1].split('. ')"
   ]
  },
  {
   "cell_type": "code",
   "execution_count": null,
   "id": "df944317-271f-4d85-acc0-bf1e5709bd0b",
   "metadata": {},
   "outputs": [],
   "source": []
  },
  {
   "cell_type": "code",
   "execution_count": 69,
   "id": "1a49e3cc-818a-44b5-8e8a-1df1b5910fcf",
   "metadata": {},
   "outputs": [
    {
     "data": {
      "text/plain": [
       "[320,\n",
       " 382,\n",
       " 247,\n",
       " 34,\n",
       " 18,\n",
       " 47,\n",
       " 19,\n",
       " 45,\n",
       " 126,\n",
       " 56,\n",
       " 176,\n",
       " 434,\n",
       " 558,\n",
       " 14,\n",
       " 76,\n",
       " 77,\n",
       " 241,\n",
       " 502,\n",
       " 42,\n",
       " 34,\n",
       " 42,\n",
       " 33,\n",
       " 43,\n",
       " 34,\n",
       " 54,\n",
       " 244,\n",
       " 388,\n",
       " 193,\n",
       " 232,\n",
       " 297,\n",
       " 422,\n",
       " 72,\n",
       " 144,\n",
       " 344,\n",
       " 484]"
      ]
     },
     "execution_count": 69,
     "metadata": {},
     "output_type": "execute_result"
    }
   ],
   "source": [
    "[len(x) for x in file_dict['text']]"
   ]
  },
  {
   "cell_type": "code",
   "execution_count": null,
   "id": "9f83526a-aeeb-4f26-a3a4-2ae82b1ddadc",
   "metadata": {},
   "outputs": [],
   "source": []
  }
 ],
 "metadata": {
  "kernelspec": {
   "display_name": "Python 3 (ipykernel)",
   "language": "python",
   "name": "python3"
  },
  "language_info": {
   "codemirror_mode": {
    "name": "ipython",
    "version": 3
   },
   "file_extension": ".py",
   "mimetype": "text/x-python",
   "name": "python",
   "nbconvert_exporter": "python",
   "pygments_lexer": "ipython3",
   "version": "3.10.4"
  }
 },
 "nbformat": 4,
 "nbformat_minor": 5
}
